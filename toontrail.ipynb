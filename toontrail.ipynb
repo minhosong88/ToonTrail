{
 "cells": [
  {
   "attachments": {},
   "cell_type": "markdown",
   "metadata": {},
   "source": [
    "use of 'package:http/http.dart' as http;\n",
    "\n",
    "\n",
    "\n",
    "import 'dart:convert';\n",
    "\n",
    "import 'package:http/http.dart' as http;\n",
    "import 'package:toontrail/models/webtoon_model.dart';\n",
    "\n",
    "class ApiService {\n",
    "  final String baseUrl = \"https://webtoon-crawler.nomadcoders.workers.dev\";\n",
    "  final String today = \"today\";\n",
    "\n",
    "  void getTodaysToons() async {\n",
    "    final url = Uri.parse('$baseUrl/$today');\n",
    "    final response = await http.get(url);\n",
    "    if (response.statusCode == 200) {\n",
    "      final List<dynamic> webtoons = jsonDecode(response.body);\n",
    "      for (var webtoon in webtoons) {\n",
    "        WebtoonModel.fromJson(webtoon);\n",
    "      }\n",
    "      return;\n",
    "    }\n",
    "    throw Error();\n",
    "  }\n",
    "}"
   ]
  },
  {
   "attachments": {},
   "cell_type": "markdown",
   "metadata": {},
   "source": [
    "## Two ways of calling Future data\n",
    "#### 1. basic\n",
    "  * Write an async-await function that waits on the fetched data, refresh(setState(() {})) the screen.(waitForWebtoons)\n",
    "  * put the results in the State(webtoons, isLoading)\n",
    "  * Use initState() function: allows to call the fucntion\n",
    "```dart\n",
    "  List<WebtoonModel> webtoons = [];\n",
    "  bool isLoading = true;\n",
    "\n",
    "  void waitForWebtoons() async {\n",
    "    webtoons = await ApiService.getTodaysToons();\n",
    "    isLoading = false;\n",
    "    setState(() {});\n",
    "  }\n",
    "\n",
    "  @override\n",
    "  void initState() {\n",
    "    super.initState();\n",
    "    waitForWebtoons();\n",
    "  }\n",
    "```\n",
    "\n",
    "- manual, exposed to mistakes\n",
    "- this is using State, but we might wanna avoid using State\n",
    "#### 2. more advanced(better ways)\n",
    "  * You can still fetch data with Stateless widget\n",
    "  * Use FutureBuilder widget\n",
    "```dart\n",
    "Future<List<WebtoonModel>> webtoons = ApiService.getTodaysToons();\n",
    "\n",
    "  @override\n",
    "  Widget build(BuildContext context) {\n",
    "    return Scaffold(\n",
    "        backgroundColor: Colors.white,\n",
    "        appBar: AppBar(\n",
    "          foregroundColor: Colors.green,\n",
    "          backgroundColor: Colors.white,\n",
    "          elevation: 2,\n",
    "          title: const Text(\n",
    "            \"Today's webtoons\",\n",
    "            style: TextStyle(\n",
    "              fontSize: 24,\n",
    "              fontWeight: FontWeight.w600,\n",
    "            ),\n",
    "          ),\n",
    "        ),\n",
    "        body: FutureBuilder(\n",
    "          future: webtoons,\n",
    "          builder: (context, snapshot) {\n",
    "            if (snapshot.hasData) {\n",
    "              return const Text(\"There is Data.\");\n",
    "            }\n",
    "            return const Text(\"Loading...\");\n",
    "          },\n",
    "        ));\n",
    "  }\n",
    "```\n",
    " * FutureBuilder widget will wait for the future data without explicitly use await function."
   ]
  },
  {
   "attachments": {},
   "cell_type": "markdown",
   "metadata": {},
   "source": [
    "ListView Widget: It is used to show many consecutive items. optimized to list items.\n",
    "ListView.builder(\n",
    "    itemBuilder: instead of creating items all at once, it applies itembuilder function to the items, it will give you the index of the item. it can access the index of items.\n",
    ")"
   ]
  },
  {
   "attachments": {},
   "cell_type": "markdown",
   "metadata": {},
   "source": [
    "``**Navigator.push**`` gives a nice animation to render a new widget screen."
   ]
  },
  {
   "attachments": {},
   "cell_type": "markdown",
   "metadata": {},
   "source": [
    "### Hero widget\n",
    "Use hero widget on the two separated screens and give the same tag on each screen"
   ]
  }
 ],
 "metadata": {
  "language_info": {
   "name": "python"
  },
  "orig_nbformat": 4
 },
 "nbformat": 4,
 "nbformat_minor": 2
}
