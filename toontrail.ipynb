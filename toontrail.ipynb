{
 "cells": [
  {
   "attachments": {},
   "cell_type": "markdown",
   "metadata": {},
   "source": [
    "use of 'package:http/http.dart' as http;\n",
    "\n",
    "\n",
    "\n",
    "import 'dart:convert';\n",
    "\n",
    "import 'package:http/http.dart' as http;\n",
    "import 'package:toontrail/models/webtoon_model.dart';\n",
    "\n",
    "class ApiService {\n",
    "  final String baseUrl = \"https://webtoon-crawler.nomadcoders.workers.dev\";\n",
    "  final String today = \"today\";\n",
    "\n",
    "  void getTodaysToons() async {\n",
    "    final url = Uri.parse('$baseUrl/$today');\n",
    "    final response = await http.get(url);\n",
    "    if (response.statusCode == 200) {\n",
    "      final List<dynamic> webtoons = jsonDecode(response.body);\n",
    "      for (var webtoon in webtoons) {\n",
    "        WebtoonModel.fromJson(webtoon);\n",
    "      }\n",
    "      return;\n",
    "    }\n",
    "    throw Error();\n",
    "  }\n",
    "}"
   ]
  },
  {
   "cell_type": "code",
   "execution_count": null,
   "metadata": {},
   "outputs": [],
   "source": []
  }
 ],
 "metadata": {
  "language_info": {
   "name": "python"
  },
  "orig_nbformat": 4
 },
 "nbformat": 4,
 "nbformat_minor": 2
}
